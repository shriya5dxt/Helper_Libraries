{
 "metadata": {
  "language_info": {
   "codemirror_mode": {
    "name": "ipython",
    "version": 3
   },
   "file_extension": ".py",
   "mimetype": "text/x-python",
   "name": "python",
   "nbconvert_exporter": "python",
   "pygments_lexer": "ipython3",
   "version": "3.7.7-final"
  },
  "orig_nbformat": 2,
  "kernelspec": {
   "name": "python37464bitbaseconda91ffa3ce695a4d63b50767c951902963",
   "display_name": "Python 3.7.4 64-bit ('base': conda)"
  }
 },
 "nbformat": 4,
 "nbformat_minor": 2,
 "cells": [
  {
   "cell_type": "code",
   "execution_count": 2,
   "metadata": {},
   "outputs": [],
   "source": [
    "import pandas as pd"
   ]
  },
  {
   "cell_type": "code",
   "execution_count": 3,
   "metadata": {},
   "outputs": [
    {
     "output_type": "execute_result",
     "data": {
      "text/plain": [
       "                    Term  Sentiment_Score Last_Update_Date\n",
       "0               annoying           -1.722        12/6/2018\n",
       "1            appropriate            1.008        12/6/2018\n",
       "2              authentic            1.581        12/6/2018\n",
       "3                 aweful           -1.947        12/6/2018\n",
       "4          awful quality           -1.944        12/6/2018\n",
       "..                   ...              ...              ...\n",
       "942           never work           -2.000       10/31/2020\n",
       "943     never consistent           -2.000        11/1/2020\n",
       "944           never fail            2.148        11/2/2020\n",
       "945   never disappointed            2.148        11/3/2020\n",
       "946            worthless           -1.581        11/4/2020\n",
       "\n",
       "[947 rows x 3 columns]"
      ],
      "text/html": "<div>\n<style scoped>\n    .dataframe tbody tr th:only-of-type {\n        vertical-align: middle;\n    }\n\n    .dataframe tbody tr th {\n        vertical-align: top;\n    }\n\n    .dataframe thead th {\n        text-align: right;\n    }\n</style>\n<table border=\"1\" class=\"dataframe\">\n  <thead>\n    <tr style=\"text-align: right;\">\n      <th></th>\n      <th>Term</th>\n      <th>Sentiment_Score</th>\n      <th>Last_Update_Date</th>\n    </tr>\n  </thead>\n  <tbody>\n    <tr>\n      <th>0</th>\n      <td>annoying</td>\n      <td>-1.722</td>\n      <td>12/6/2018</td>\n    </tr>\n    <tr>\n      <th>1</th>\n      <td>appropriate</td>\n      <td>1.008</td>\n      <td>12/6/2018</td>\n    </tr>\n    <tr>\n      <th>2</th>\n      <td>authentic</td>\n      <td>1.581</td>\n      <td>12/6/2018</td>\n    </tr>\n    <tr>\n      <th>3</th>\n      <td>aweful</td>\n      <td>-1.947</td>\n      <td>12/6/2018</td>\n    </tr>\n    <tr>\n      <th>4</th>\n      <td>awful quality</td>\n      <td>-1.944</td>\n      <td>12/6/2018</td>\n    </tr>\n    <tr>\n      <th>...</th>\n      <td>...</td>\n      <td>...</td>\n      <td>...</td>\n    </tr>\n    <tr>\n      <th>942</th>\n      <td>never work</td>\n      <td>-2.000</td>\n      <td>10/31/2020</td>\n    </tr>\n    <tr>\n      <th>943</th>\n      <td>never consistent</td>\n      <td>-2.000</td>\n      <td>11/1/2020</td>\n    </tr>\n    <tr>\n      <th>944</th>\n      <td>never fail</td>\n      <td>2.148</td>\n      <td>11/2/2020</td>\n    </tr>\n    <tr>\n      <th>945</th>\n      <td>never disappointed</td>\n      <td>2.148</td>\n      <td>11/3/2020</td>\n    </tr>\n    <tr>\n      <th>946</th>\n      <td>worthless</td>\n      <td>-1.581</td>\n      <td>11/4/2020</td>\n    </tr>\n  </tbody>\n</table>\n<p>947 rows × 3 columns</p>\n</div>"
     },
     "metadata": {},
     "execution_count": 3
    }
   ],
   "source": [
    "df = pd.read_csv('helper_pkg/hpnlp_files/Ref_Term_Score.csv')\n",
    "df"
   ]
  },
  {
   "cell_type": "code",
   "execution_count": 5,
   "metadata": {},
   "outputs": [
    {
     "output_type": "stream",
     "name": "stdout",
     "text": [
      "Requirement already satisfied: python-helper-library==0.0.1 from file:///C:/Users/mehtac/Git%20Repositories/python_helper_libraries/dist/python_helper_library-0.0.1-py3-none-any.whl in c:\\users\\mehtac\\appdata\\local\\continuum\\anaconda3\\lib\\site-packages (0.0.1)\n"
     ]
    }
   ],
   "source": [
    "!pip install --no-cache-dir --force-reinstall dist/python_helper_library-0.0.1-py3-none-any.whl"
   ]
  },
  {
   "cell_type": "code",
   "execution_count": 1,
   "metadata": {},
   "outputs": [],
   "source": [
    "from helper_pkg import Helper\n",
    "hlp = Helper()"
   ]
  },
  {
   "cell_type": "code",
   "execution_count": 4,
   "metadata": {},
   "outputs": [
    {
     "output_type": "stream",
     "name": "stdout",
     "text": [
      "<class 'pandas.core.frame.DataFrame'>\nRangeIndex: 947 entries, 0 to 946\nData columns (total 3 columns):\n #   Column            Non-Null Count  Dtype  \n---  ------            --------------  -----  \n 0   Term              947 non-null    object \n 1   Sentiment_Score   947 non-null    float64\n 2   Last_Update_Date  947 non-null    object \ndtypes: float64(1), object(2)\nmemory usage: 22.3+ KB\n"
     ]
    },
    {
     "output_type": "display_data",
     "data": {
      "text/plain": "None"
     },
     "metadata": {}
    },
    {
     "output_type": "display_data",
     "data": {
      "text/plain": "            Term  Sentiment_Score Last_Update_Date\n0       annoying           -1.722        12/6/2018\n1    appropriate            1.008        12/6/2018\n2      authentic            1.581        12/6/2018\n3         aweful           -1.947        12/6/2018\n4  awful quality           -1.944        12/6/2018",
      "text/html": "<div>\n<style scoped>\n    .dataframe tbody tr th:only-of-type {\n        vertical-align: middle;\n    }\n\n    .dataframe tbody tr th {\n        vertical-align: top;\n    }\n\n    .dataframe thead th {\n        text-align: right;\n    }\n</style>\n<table border=\"1\" class=\"dataframe\">\n  <thead>\n    <tr style=\"text-align: right;\">\n      <th></th>\n      <th>Term</th>\n      <th>Sentiment_Score</th>\n      <th>Last_Update_Date</th>\n    </tr>\n  </thead>\n  <tbody>\n    <tr>\n      <th>0</th>\n      <td>annoying</td>\n      <td>-1.722</td>\n      <td>12/6/2018</td>\n    </tr>\n    <tr>\n      <th>1</th>\n      <td>appropriate</td>\n      <td>1.008</td>\n      <td>12/6/2018</td>\n    </tr>\n    <tr>\n      <th>2</th>\n      <td>authentic</td>\n      <td>1.581</td>\n      <td>12/6/2018</td>\n    </tr>\n    <tr>\n      <th>3</th>\n      <td>aweful</td>\n      <td>-1.947</td>\n      <td>12/6/2018</td>\n    </tr>\n    <tr>\n      <th>4</th>\n      <td>awful quality</td>\n      <td>-1.944</td>\n      <td>12/6/2018</td>\n    </tr>\n  </tbody>\n</table>\n</div>"
     },
     "metadata": {}
    },
    {
     "output_type": "display_data",
     "data": {
      "text/plain": "                    Term  Sentiment_Score Last_Update_Date\n942           never work           -2.000       10/31/2020\n943     never consistent           -2.000        11/1/2020\n944           never fail            2.148        11/2/2020\n945   never disappointed            2.148        11/3/2020\n946            worthless           -1.581        11/4/2020",
      "text/html": "<div>\n<style scoped>\n    .dataframe tbody tr th:only-of-type {\n        vertical-align: middle;\n    }\n\n    .dataframe tbody tr th {\n        vertical-align: top;\n    }\n\n    .dataframe thead th {\n        text-align: right;\n    }\n</style>\n<table border=\"1\" class=\"dataframe\">\n  <thead>\n    <tr style=\"text-align: right;\">\n      <th></th>\n      <th>Term</th>\n      <th>Sentiment_Score</th>\n      <th>Last_Update_Date</th>\n    </tr>\n  </thead>\n  <tbody>\n    <tr>\n      <th>942</th>\n      <td>never work</td>\n      <td>-2.000</td>\n      <td>10/31/2020</td>\n    </tr>\n    <tr>\n      <th>943</th>\n      <td>never consistent</td>\n      <td>-2.000</td>\n      <td>11/1/2020</td>\n    </tr>\n    <tr>\n      <th>944</th>\n      <td>never fail</td>\n      <td>2.148</td>\n      <td>11/2/2020</td>\n    </tr>\n    <tr>\n      <th>945</th>\n      <td>never disappointed</td>\n      <td>2.148</td>\n      <td>11/3/2020</td>\n    </tr>\n    <tr>\n      <th>946</th>\n      <td>worthless</td>\n      <td>-1.581</td>\n      <td>11/4/2020</td>\n    </tr>\n  </tbody>\n</table>\n</div>"
     },
     "metadata": {}
    },
    {
     "output_type": "display_data",
     "data": {
      "text/plain": "        Term  Sentiment_Score Last_Update_Date\ncount    947       947.000000              947\nunique   947              NaN               50\ntop     chic              NaN        12/6/2018\nfreq       1              NaN              898\nmean     NaN        -0.078621              NaN\nstd      NaN        46.377664              NaN\nmin      NaN     -1008.000000              NaN\n25%      NaN        -1.581000              NaN\n50%      NaN        -1.008000              NaN\n75%      NaN         1.581000              NaN\nmax      NaN      1008.000000              NaN",
      "text/html": "<div>\n<style scoped>\n    .dataframe tbody tr th:only-of-type {\n        vertical-align: middle;\n    }\n\n    .dataframe tbody tr th {\n        vertical-align: top;\n    }\n\n    .dataframe thead th {\n        text-align: right;\n    }\n</style>\n<table border=\"1\" class=\"dataframe\">\n  <thead>\n    <tr style=\"text-align: right;\">\n      <th></th>\n      <th>Term</th>\n      <th>Sentiment_Score</th>\n      <th>Last_Update_Date</th>\n    </tr>\n  </thead>\n  <tbody>\n    <tr>\n      <th>count</th>\n      <td>947</td>\n      <td>947.000000</td>\n      <td>947</td>\n    </tr>\n    <tr>\n      <th>unique</th>\n      <td>947</td>\n      <td>NaN</td>\n      <td>50</td>\n    </tr>\n    <tr>\n      <th>top</th>\n      <td>chic</td>\n      <td>NaN</td>\n      <td>12/6/2018</td>\n    </tr>\n    <tr>\n      <th>freq</th>\n      <td>1</td>\n      <td>NaN</td>\n      <td>898</td>\n    </tr>\n    <tr>\n      <th>mean</th>\n      <td>NaN</td>\n      <td>-0.078621</td>\n      <td>NaN</td>\n    </tr>\n    <tr>\n      <th>std</th>\n      <td>NaN</td>\n      <td>46.377664</td>\n      <td>NaN</td>\n    </tr>\n    <tr>\n      <th>min</th>\n      <td>NaN</td>\n      <td>-1008.000000</td>\n      <td>NaN</td>\n    </tr>\n    <tr>\n      <th>25%</th>\n      <td>NaN</td>\n      <td>-1.581000</td>\n      <td>NaN</td>\n    </tr>\n    <tr>\n      <th>50%</th>\n      <td>NaN</td>\n      <td>-1.008000</td>\n      <td>NaN</td>\n    </tr>\n    <tr>\n      <th>75%</th>\n      <td>NaN</td>\n      <td>1.581000</td>\n      <td>NaN</td>\n    </tr>\n    <tr>\n      <th>max</th>\n      <td>NaN</td>\n      <td>1008.000000</td>\n      <td>NaN</td>\n    </tr>\n  </tbody>\n</table>\n</div>"
     },
     "metadata": {}
    }
   ],
   "source": [
    "hlp.analyse_df(df)"
   ]
  },
  {
   "cell_type": "code",
   "execution_count": null,
   "metadata": {},
   "outputs": [],
   "source": []
  }
 ]
}